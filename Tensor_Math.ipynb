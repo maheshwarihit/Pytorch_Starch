{
  "nbformat": 4,
  "nbformat_minor": 0,
  "metadata": {
    "colab": {
      "provenance": [],
      "gpuType": "T4",
      "authorship_tag": "ABX9TyO6ps/AavjWHkaHvRPIfWoJ",
      "include_colab_link": true
    },
    "kernelspec": {
      "name": "python3",
      "display_name": "Python 3"
    },
    "language_info": {
      "name": "python"
    },
    "accelerator": "GPU"
  },
  "cells": [
    {
      "cell_type": "markdown",
      "metadata": {
        "id": "view-in-github",
        "colab_type": "text"
      },
      "source": [
        "<a href=\"https://colab.research.google.com/github/maheshwarihit/Pytorch_Starch/blob/main/Tensor_Math.ipynb\" target=\"_parent\"><img src=\"https://colab.research.google.com/assets/colab-badge.svg\" alt=\"Open In Colab\"/></a>"
      ]
    },
    {
      "cell_type": "markdown",
      "source": [
        "# **TENSOR MATH OPERATIONS**"
      ],
      "metadata": {
        "id": "dlK7XZ_mmCmi"
      }
    },
    {
      "cell_type": "markdown",
      "source": [
        "\n",
        "\n",
        "*   Add Subtract Mutliply Divide Remainder Exponents\n",
        "*   Shorthand and longhand\n",
        "*   Reassignment\n",
        "\n",
        "\n",
        "\n"
      ],
      "metadata": {
        "id": "-Gmu5RUKmVQ1"
      }
    },
    {
      "cell_type": "code",
      "source": [
        "import torch\n",
        "import numpy as np"
      ],
      "metadata": {
        "id": "4g-kMrnCmpby"
      },
      "execution_count": 3,
      "outputs": []
    },
    {
      "cell_type": "code",
      "source": [
        "tensor_a = torch.tensor([1,2,3,4])\n",
        "tensor_b = torch.tensor([5,6,7,8])"
      ],
      "metadata": {
        "id": "oQKhLEG7musQ"
      },
      "execution_count": 4,
      "outputs": []
    },
    {
      "cell_type": "code",
      "source": [
        "#Addition\n",
        "tensor_a + tensor_b"
      ],
      "metadata": {
        "colab": {
          "base_uri": "https://localhost:8080/"
        },
        "id": "lpf3OtuopgoV",
        "outputId": "9e3046a9-b4ce-4a32-b6a0-215d518646b6"
      },
      "execution_count": 5,
      "outputs": [
        {
          "output_type": "execute_result",
          "data": {
            "text/plain": [
              "tensor([ 6,  8, 10, 12])"
            ]
          },
          "metadata": {},
          "execution_count": 5
        }
      ]
    },
    {
      "cell_type": "code",
      "source": [
        "#add longhand\n",
        "torch.add(tensor_a, tensor_b)"
      ],
      "metadata": {
        "colab": {
          "base_uri": "https://localhost:8080/"
        },
        "id": "SEmwIzaGqJML",
        "outputId": "3d7978b7-fb51-41bf-a634-5af55af4dcf9"
      },
      "execution_count": 14,
      "outputs": [
        {
          "output_type": "execute_result",
          "data": {
            "text/plain": [
              "tensor([ 6,  8, 10, 12])"
            ]
          },
          "metadata": {},
          "execution_count": 14
        }
      ]
    },
    {
      "cell_type": "code",
      "source": [
        "#Subtraction\n",
        "tensor_b - tensor_a"
      ],
      "metadata": {
        "colab": {
          "base_uri": "https://localhost:8080/"
        },
        "id": "tpthND3cpwrP",
        "outputId": "683f1de2-b51c-4255-92da-2d041f3841a2"
      },
      "execution_count": 8,
      "outputs": [
        {
          "output_type": "execute_result",
          "data": {
            "text/plain": [
              "tensor([4, 4, 4, 4])"
            ]
          },
          "metadata": {},
          "execution_count": 8
        }
      ]
    },
    {
      "cell_type": "code",
      "source": [
        "#sub funtion\n",
        "torch.sub(tensor_b , tensor_a)"
      ],
      "metadata": {
        "colab": {
          "base_uri": "https://localhost:8080/"
        },
        "id": "LjAKIKl2qkAh",
        "outputId": "e86c34cc-4203-4796-db48-2e489e233fe1"
      },
      "execution_count": 11,
      "outputs": [
        {
          "output_type": "execute_result",
          "data": {
            "text/plain": [
              "tensor([4, 4, 4, 4])"
            ]
          },
          "metadata": {},
          "execution_count": 11
        }
      ]
    },
    {
      "cell_type": "code",
      "source": [
        "#Multiply\n",
        "tensor_a * tensor_b"
      ],
      "metadata": {
        "colab": {
          "base_uri": "https://localhost:8080/"
        },
        "id": "JV8rtMgdq6wO",
        "outputId": "23ae5952-34ee-4a09-a7c5-5757ef9af5a1"
      },
      "execution_count": 12,
      "outputs": [
        {
          "output_type": "execute_result",
          "data": {
            "text/plain": [
              "tensor([ 5, 12, 21, 32])"
            ]
          },
          "metadata": {},
          "execution_count": 12
        }
      ]
    },
    {
      "cell_type": "code",
      "source": [
        "#Mul fun.\n",
        "torch.mul(tensor_a , tensor_b)"
      ],
      "metadata": {
        "colab": {
          "base_uri": "https://localhost:8080/"
        },
        "id": "QPa2xNGirKuM",
        "outputId": "9dd6f6cf-799a-4a94-a1a0-151ea1541a55"
      },
      "execution_count": 13,
      "outputs": [
        {
          "output_type": "execute_result",
          "data": {
            "text/plain": [
              "tensor([ 5, 12, 21, 32])"
            ]
          },
          "metadata": {},
          "execution_count": 13
        }
      ]
    },
    {
      "cell_type": "code",
      "source": [
        "#Divison\n",
        "tensor_b / tensor_a"
      ],
      "metadata": {
        "colab": {
          "base_uri": "https://localhost:8080/"
        },
        "id": "ieJrOnaDrRVX",
        "outputId": "7b4edf64-039d-40e5-ab2a-947a6399abca"
      },
      "execution_count": 15,
      "outputs": [
        {
          "output_type": "execute_result",
          "data": {
            "text/plain": [
              "tensor([5.0000, 3.0000, 2.3333, 2.0000])"
            ]
          },
          "metadata": {},
          "execution_count": 15
        }
      ]
    },
    {
      "cell_type": "code",
      "source": [
        "#Div longhand\n",
        "torch.div(tensor_b , tensor_a)"
      ],
      "metadata": {
        "colab": {
          "base_uri": "https://localhost:8080/"
        },
        "id": "MdQISk5krhQz",
        "outputId": "68c70399-180f-49b8-8472-335fe4bcc147"
      },
      "execution_count": 16,
      "outputs": [
        {
          "output_type": "execute_result",
          "data": {
            "text/plain": [
              "tensor([5.0000, 3.0000, 2.3333, 2.0000])"
            ]
          },
          "metadata": {},
          "execution_count": 16
        }
      ]
    },
    {
      "cell_type": "code",
      "source": [
        "#Remainder\n",
        "tensor_b % tensor_a"
      ],
      "metadata": {
        "colab": {
          "base_uri": "https://localhost:8080/"
        },
        "id": "Hq6gqnLprt6g",
        "outputId": "f8fa141b-f043-49ef-93ae-6b6c864a868b"
      },
      "execution_count": 17,
      "outputs": [
        {
          "output_type": "execute_result",
          "data": {
            "text/plain": [
              "tensor([0, 0, 1, 0])"
            ]
          },
          "metadata": {},
          "execution_count": 17
        }
      ]
    },
    {
      "cell_type": "code",
      "source": [
        "#remainder longhand\n",
        "torch.remainder(tensor_b ,tensor_a)"
      ],
      "metadata": {
        "colab": {
          "base_uri": "https://localhost:8080/"
        },
        "id": "siQFy4ZPsCh5",
        "outputId": "7f17ed65-86ee-4325-d95f-63222eb30531"
      },
      "execution_count": 18,
      "outputs": [
        {
          "output_type": "execute_result",
          "data": {
            "text/plain": [
              "tensor([0, 0, 1, 0])"
            ]
          },
          "metadata": {},
          "execution_count": 18
        }
      ]
    },
    {
      "cell_type": "code",
      "source": [
        "#exponents / power\n",
        "torch.pow(tensor_a , tensor_b)"
      ],
      "metadata": {
        "colab": {
          "base_uri": "https://localhost:8080/"
        },
        "id": "_hS6mS8esJF1",
        "outputId": "a642554a-7eea-4eb9-d791-aa55b7eb3577"
      },
      "execution_count": 19,
      "outputs": [
        {
          "output_type": "execute_result",
          "data": {
            "text/plain": [
              "tensor([    1,    64,  2187, 65536])"
            ]
          },
          "metadata": {},
          "execution_count": 19
        }
      ]
    },
    {
      "cell_type": "code",
      "source": [
        "#Another way to write longhand\n",
        "tensor_a.add(tensor_b)"
      ],
      "metadata": {
        "colab": {
          "base_uri": "https://localhost:8080/"
        },
        "id": "2pHzn0jYsW6I",
        "outputId": "cac88b34-0172-46b4-bca4-6ce6f5f14a3e"
      },
      "execution_count": 20,
      "outputs": [
        {
          "output_type": "execute_result",
          "data": {
            "text/plain": [
              "tensor([ 6,  8, 10, 12])"
            ]
          },
          "metadata": {},
          "execution_count": 20
        }
      ]
    },
    {
      "cell_type": "code",
      "source": [
        "#Reassignment\n",
        "tensor_a +tensor_b"
      ],
      "metadata": {
        "colab": {
          "base_uri": "https://localhost:8080/"
        },
        "id": "-29WiqMHsq3H",
        "outputId": "45a205b4-29f2-4f66-e68c-f7a1ce32d10a"
      },
      "execution_count": 21,
      "outputs": [
        {
          "output_type": "execute_result",
          "data": {
            "text/plain": [
              "tensor([ 6,  8, 10, 12])"
            ]
          },
          "metadata": {},
          "execution_count": 21
        }
      ]
    },
    {
      "cell_type": "code",
      "source": [
        "tensor_a = tensor_a + tensor_b"
      ],
      "metadata": {
        "id": "-W8Ca0Gss9rk"
      },
      "execution_count": 22,
      "outputs": []
    }
  ]
}